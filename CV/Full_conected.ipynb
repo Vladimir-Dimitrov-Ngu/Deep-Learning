{
 "cells": [
  {
   "cell_type": "code",
   "execution_count": null,
   "outputs": [],
   "source": [
    "import torch\n",
    "from torch import nn\n",
    "from torch.nn import functional as F\n",
    "import warnings\n",
    "from tqdm import trange\n",
    "from tqdm import tqdm\n",
    "from scripts.plot_loss import plot_losses\n",
    "\n",
    "torch.manual_seed(0)\n",
    "device = torch.device('cuda' if torch.cuda.is_available() else 'cpu')\n",
    "warnings.filterwarnings(\"ignore\")"
   ],
   "metadata": {
    "collapsed": false
   },
   "id": "ea8a231e70be44f8"
  },
  {
   "cell_type": "code",
   "execution_count": null,
   "outputs": [],
   "source": [
    "class MLP(nn.Module):\n",
    "    def __init__(self, input_size, hidden_size, output_size):\n",
    "        super(MLP, self).__init__()\n",
    "        self.fc1 = nn.Linear(input_size, hidden_size)\n",
    "        self.fc2 = nn.Linear(hidden_size, output_size)\n",
    "        self.LeakyReLU = nn.LeakyReLU(0.2)\n",
    "        self.softmax = nn.Softmax()\n",
    "        \n",
    "    def forward(self, x):\n",
    "        x = self.LeakyReLU(self.fc1(x))\n",
    "        x = self.fc2(x)\n",
    "        x = self.softmax(x)\n",
    "        x = torch.argmax(x, dim=1)\n",
    "        return x"
   ],
   "metadata": {
    "collapsed": false
   },
   "id": "8d03c98bb8a01322"
  },
  {
   "cell_type": "code",
   "execution_count": null,
   "outputs": [],
   "source": [
    "class MLP_sequential(nn.Module):\n",
    "    def __init__(self, input_size, hidden_size, output_size):\n",
    "        super().__init__()\n",
    "        self.model = nn.Sequential(\n",
    "            nn.Linear(input_size, hidden_size),\n",
    "            nn.LeakyReLU(0.2),\n",
    "            nn.Linear(hidden_size, output_size, bias=False)\n",
    "        )\n",
    "        \n",
    "    def forward(self, x):\n",
    "        x = self.model(x)\n",
    "        return x"
   ],
   "metadata": {
    "collapsed": false
   },
   "id": "326b8a0e4591d022"
  },
  {
   "cell_type": "code",
   "execution_count": null,
   "outputs": [],
   "source": [
    "IMG_SIZE = 24\n",
    "HIDDEN_SIZE = 128\n",
    "NUM_CLASSES = 10\n",
    "\n",
    "model = MLP(input_size=IMG_SIZE, hidden_size=HIDDEN_SIZE, output_size=NUM_CLASSES).to(device)\n",
    "output = model.forward(torch.randn(1, 24).to(device))\n",
    "print(output)"
   ],
   "metadata": {
    "collapsed": false
   },
   "id": "d25e5507f9473fa2"
  },
  {
   "cell_type": "code",
   "execution_count": null,
   "outputs": [],
   "source": [
    "IMG_SIZE = 24\n",
    "HIDDEN_SIZE = 128\n",
    "NUM_CLASSES = 10\n",
    "\n",
    "model = MLP_sequential(input_size=IMG_SIZE, hidden_size=HIDDEN_SIZE, output_size=NUM_CLASSES).to(device)\n",
    "output = model.forward(torch.randn(1, 24).to(device))\n",
    "print(output)"
   ],
   "metadata": {
    "collapsed": false
   },
   "id": "280d1838279e9c9a"
  },
  {
   "cell_type": "markdown",
   "source": [
    "# Model 1"
   ],
   "metadata": {
    "collapsed": false
   },
   "id": "6d4e4a0c1e075f47"
  },
  {
   "cell_type": "code",
   "execution_count": null,
   "outputs": [],
   "source": [
    "NUM_EPOCHS = 10\n",
    "\n",
    "model = MLP_sequential(input_size=IMG_SIZE ** 2 * 3, hidden_size=HIDDEN_SIZE, output_size=NUM_CLASSES).to(device)\n",
    "optimizer = torch.optim.SGD(model.parameters(), lr=0.001, momentum=0.9, weight_decay=0.0005)\n",
    "criterion = nn.CrossEntropyLoss() # this function is used to calculate the loss and take logits\n",
    "scheduler = torch.optim.lr_scheduler.CosineAnnealingLR(optimizer, T_max=NUM_EPOCHS, eta_min=0.00001)"
   ],
   "metadata": {
    "collapsed": false
   },
   "id": "3f309f347c3a7a26"
  },
  {
   "cell_type": "code",
   "execution_count": null,
   "outputs": [],
   "source": [
    "train_loader = [(torch.randn(1024, 3, 24, 24), torch.randn(1024, 10).argmax(dim=1))]\n",
    "test_loader = [(torch.randn(1024, 3, 24, 24), torch.randn(1024, 10).argmax(dim=1))]"
   ],
   "metadata": {
    "collapsed": false
   },
   "id": "533ca8a153d6430b"
  },
  {
   "cell_type": "code",
   "execution_count": null,
   "outputs": [],
   "source": [
    "train_losses, train_accuracies = [], []\n",
    "test_losses, test_accuracies = [], []\n",
    "for epoch in trange(NUM_EPOCHS, desc='Epochs'):\n",
    "    training_loss, training_accuracy = 0., 0.\n",
    "    model.train()\n",
    "    for batch in train_loader:\n",
    "        optimizer.zero_grad()\n",
    "        images = batch[0].to(device)\n",
    "        label = batch[1].to(device)\n",
    "        logits = model(torch.flatten(images, start_dim=1))\n",
    "        loss = criterion(logits, label)\n",
    "        loss.backward()\n",
    "        optimizer.step()\n",
    "        \n",
    "        training_loss += loss.item() * images.size(0)\n",
    "        training_accuracy += (torch.sum(torch.argmax(logits, dim=1) == label)).item()\n",
    "    if scheduler:\n",
    "        scheduler.step()\n",
    "    training_loss /= 1024\n",
    "    training_accuracy /= 1024\n",
    "    \n",
    "    train_losses.append(training_loss)\n",
    "    train_accuracies.append(training_accuracy)\n",
    "    \n",
    "    testing_loss, testing_accuracy = 0., 0.\n",
    "    model.eval() # set the model to evaluation mode; example we have dropout layer and this mode allow to use right dropout\n",
    "    for batch in test_loader:\n",
    "        optimizer.zero_grad()\n",
    "        images = batch[0].to(device)\n",
    "        label = batch[1].to(device)\n",
    "        with torch.no_grad():\n",
    "            logits = model(torch.flatten(images, start_dim=1))\n",
    "            loss = criterion(logits, label)\n",
    "        \n",
    "        testing_loss += loss.item() * images.size(0)\n",
    "        testing_accuracy += (torch.sum(torch.argmax(logits, dim=1) == label)).item()\n",
    "        \n",
    "    testing_loss /= 1024\n",
    "    testing_accuracy /= 1024\n",
    "    \n",
    "    test_losses.append(testing_loss)\n",
    "    test_accuracies.append(testing_accuracy)\n",
    "    \n",
    "    plot_losses(train_losses, test_losses, train_accuracies, test_accuracies)"
   ],
   "metadata": {
    "collapsed": false
   },
   "id": "769822dce0283fad"
  }
 ],
 "metadata": {
  "kernelspec": {
   "display_name": "Python 3",
   "language": "python",
   "name": "python3"
  },
  "language_info": {
   "codemirror_mode": {
    "name": "ipython",
    "version": 2
   },
   "file_extension": ".py",
   "mimetype": "text/x-python",
   "name": "python",
   "nbconvert_exporter": "python",
   "pygments_lexer": "ipython2",
   "version": "2.7.6"
  }
 },
 "nbformat": 4,
 "nbformat_minor": 5
}
