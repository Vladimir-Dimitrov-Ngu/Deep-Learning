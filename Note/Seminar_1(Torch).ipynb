{
 "cells": [
  {
   "cell_type": "markdown",
   "metadata": {},
   "source": [
    "Кроме pytorch существуют альтернативы: Tensorflow, MXNet, Keras.\n",
    "\n",
    "Существуют три типа фреймоворков: \n",
    "1. С фиксированным модулем (Keras) - расширяемость близка к нуля (собираешь из имеющихся)\n",
    "2. Статический граф вычислений (Tensorflow) - создали свою нейросеть (кастом не настолько сложен), обучили и больше изменять нельзя \n",
    "3. Динамический граф вычислений - на каждой итерации обучения нейронки можно менять граф, где-то считается градиент где-то нет (плюс все плюсы статисческих и фиксированных)\n"
   ]
  },
  {
   "cell_type": "code",
   "execution_count": 71,
   "metadata": {},
   "outputs": [],
   "source": [
    "import numpy as np\n",
    "import torch \n",
    "import torchvision\n",
    "import matplotlib.pyplot as plt\n",
    "import torch.nn as nn # стандартные слои нейронок\n",
    "import torch.nn.functional as F # функции активации\n",
    "\n",
    "from sklearn.datasets import load_boston\n",
    "from tqdm.notebook import tqdm\n",
    "\n",
    "\n",
    "import warnings\n",
    "warnings.filterwarnings('ignore')"
   ]
  },
  {
   "cell_type": "markdown",
   "metadata": {},
   "source": [
    "### Повторение numpy"
   ]
  },
  {
   "cell_type": "code",
   "execution_count": 9,
   "metadata": {},
   "outputs": [
    {
     "data": {
      "text/plain": [
       "array([[0.77253577, 0.02267167, 0.79432019],\n",
       "       [0.31924496, 0.22019336, 0.00439472],\n",
       "       [0.71299293, 0.48525016, 0.36078269],\n",
       "       [0.0695266 , 0.40099632, 0.97508593],\n",
       "       [0.55081808, 0.52858347, 0.16927631]])"
      ]
     },
     "execution_count": 9,
     "metadata": {},
     "output_type": "execute_result"
    }
   ],
   "source": [
    "a = np.random.rand(5, 3) # создали случайную матрицу\n",
    "a"
   ]
  },
  {
   "cell_type": "code",
   "execution_count": 10,
   "metadata": {},
   "outputs": [
    {
     "data": {
      "text/plain": [
       "array([[1.22827009, 0.25511112, 0.84839095, 0.83733349, 0.57197013],\n",
       "       [0.25511112, 0.15042177, 0.3360538 , 0.11477797, 0.29298038],\n",
       "       [0.84839095, 0.3360538 , 0.87399079, 0.59594963, 0.71029657],\n",
       "       [0.83733349, 0.11477797, 0.59594963, 1.11642458, 0.41531548],\n",
       "       [0.57197013, 0.29298038, 0.71029657, 0.41531548, 0.61145551]])"
      ]
     },
     "execution_count": 10,
     "metadata": {},
     "output_type": "execute_result"
    }
   ],
   "source": [
    "a @ a.T"
   ]
  },
  {
   "cell_type": "code",
   "execution_count": 13,
   "metadata": {},
   "outputs": [
    {
     "data": {
      "text/plain": [
       "(array([[1.22827009, 0.25511112, 0.84839095, 0.83733349, 0.57197013],\n",
       "        [0.25511112, 0.15042177, 0.3360538 , 0.11477797, 0.29298038],\n",
       "        [0.84839095, 0.3360538 , 0.87399079, 0.59594963, 0.71029657],\n",
       "        [0.83733349, 0.11477797, 0.59594963, 1.11642458, 0.41531548],\n",
       "        [0.57197013, 0.29298038, 0.71029657, 0.41531548, 0.61145551]]),\n",
       " array([[1.51532229, 0.75282347, 1.03331412],\n",
       "        [0.75282347, 0.72466537, 0.67452865],\n",
       "        [1.03331412, 0.67452865, 1.74057507]]))"
      ]
     },
     "execution_count": 13,
     "metadata": {},
     "output_type": "execute_result"
    }
   ],
   "source": [
    "np.dot(a, a.T), np.dot(a.T, a)"
   ]
  },
  {
   "cell_type": "code",
   "execution_count": 22,
   "metadata": {},
   "outputs": [
    {
     "name": "stdout",
     "output_type": "stream",
     "text": [
      "Среднее по колонкам [0.52984255 0.18127768 0.51967526 0.48186962 0.41622595]\n"
     ]
    }
   ],
   "source": [
    "print(f\"Среднее по колонкам {a.mean(axis = -1 )}\")"
   ]
  },
  {
   "cell_type": "code",
   "execution_count": 17,
   "metadata": {},
   "outputs": [
    {
     "name": "stdout",
     "output_type": "stream",
     "text": [
      "Изменить размеры (3, 5)\n"
     ]
    }
   ],
   "source": [
    "print(f\"Изменить размеры {a.reshape(-1, 5).shape}\")"
   ]
  },
  {
   "cell_type": "code",
   "execution_count": null,
   "metadata": {},
   "outputs": [],
   "source": [
    "# Сумма квадратов от 1 до 10000\n",
    "np.sum(np.arange(1, 10001) ^ 2)"
   ]
  },
  {
   "cell_type": "markdown",
   "metadata": {},
   "source": [
    "### Pytorch\n",
    "\n",
    "Аналогично numpy, только объекты здесь это тензоры"
   ]
  },
  {
   "cell_type": "code",
   "execution_count": 23,
   "metadata": {},
   "outputs": [
    {
     "data": {
      "text/plain": [
       "tensor([[0.9433, 0.2186, 0.7462],\n",
       "        [0.4543, 0.1301, 0.3394],\n",
       "        [0.9968, 0.7752, 0.9358],\n",
       "        [0.0968, 0.1067, 0.1937],\n",
       "        [0.8192, 0.5962, 0.3992]])"
      ]
     },
     "execution_count": 23,
     "metadata": {},
     "output_type": "execute_result"
    }
   ],
   "source": [
    "x = torch.rand(5, 3)\n",
    "x"
   ]
  },
  {
   "cell_type": "code",
   "execution_count": 25,
   "metadata": {},
   "outputs": [
    {
     "name": "stdout",
     "output_type": "stream",
     "text": [
      "torch.Size([5, 3])\n"
     ]
    }
   ],
   "source": [
    "print(x.shape)"
   ]
  },
  {
   "cell_type": "code",
   "execution_count": 31,
   "metadata": {},
   "outputs": [
    {
     "data": {
      "text/plain": [
       "tensor([[1.4944, 0.7102, 1.8080, 0.2592, 1.2009],\n",
       "        [0.7102, 0.3384, 0.8712, 0.1236, 0.5852],\n",
       "        [1.8080, 0.8712, 2.4702, 0.3605, 1.6523],\n",
       "        [0.2592, 0.1236, 0.3605, 0.0583, 0.2203],\n",
       "        [1.2009, 0.5852, 1.6523, 0.2203, 1.1858]])"
      ]
     },
     "execution_count": 31,
     "metadata": {},
     "output_type": "execute_result"
    }
   ],
   "source": [
    "torch.matmul(x, x.transpose(1, 0))\n",
    "x.mm(x.t())\n",
    "x @ x.t()"
   ]
  },
  {
   "cell_type": "code",
   "execution_count": 33,
   "metadata": {},
   "outputs": [
    {
     "name": "stdout",
     "output_type": "stream",
     "text": [
      "Mean of columns: tensor([0.6360, 0.3079, 0.9026, 0.1324, 0.6049])\n"
     ]
    }
   ],
   "source": [
    "print(f\"Mean of columns: {x.mean(dim = -1)}\")"
   ]
  },
  {
   "cell_type": "code",
   "execution_count": 37,
   "metadata": {},
   "outputs": [
    {
     "name": "stdout",
     "output_type": "stream",
     "text": [
      "Reshape torch.Size([3, 5])\n",
      "Reshape torch.Size([3, 5])\n"
     ]
    }
   ],
   "source": [
    "print(f\"Reshape {x.view([3, 5]).shape}\")\n",
    "print(f\"Reshape {x.view([-1, 5]).shape}\")"
   ]
  },
  {
   "cell_type": "code",
   "execution_count": 39,
   "metadata": {},
   "outputs": [
    {
     "data": {
      "text/plain": [
       "333383335000"
      ]
     },
     "execution_count": 39,
     "metadata": {},
     "output_type": "execute_result"
    }
   ],
   "source": [
    "sum(torch.arange(1, 10001) ** 2).item()"
   ]
  },
  {
   "cell_type": "code",
   "execution_count": 42,
   "metadata": {},
   "outputs": [
    {
     "data": {
      "text/plain": [
       "tensor([[9.2755e-39, 9.1837e-39, 9.3674e-39],\n",
       "        [1.0745e-38, 1.0653e-38, 9.5510e-39],\n",
       "        [1.0561e-38, 1.0194e-38, 1.1112e-38],\n",
       "        [1.0561e-38, 9.9184e-39, 1.0653e-38],\n",
       "        [4.1327e-39, 1.0194e-38, 1.0469e-38]])"
      ]
     },
     "execution_count": 42,
     "metadata": {},
     "output_type": "execute_result"
    }
   ],
   "source": [
    "x = torch.empty(5, 3)\n",
    "x\n",
    "x = torch.empty([5, 3])\n",
    "x"
   ]
  },
  {
   "cell_type": "code",
   "execution_count": 45,
   "metadata": {},
   "outputs": [
    {
     "data": {
      "text/plain": [
       "tensor([[0, 0, 0],\n",
       "        [0, 0, 0],\n",
       "        [0, 0, 0],\n",
       "        [0, 0, 0],\n",
       "        [0, 0, 0]])"
      ]
     },
     "execution_count": 45,
     "metadata": {},
     "output_type": "execute_result"
    }
   ],
   "source": [
    "torch.zeros(5, 3, dtype=torch.long)"
   ]
  },
  {
   "cell_type": "code",
   "execution_count": 53,
   "metadata": {},
   "outputs": [
    {
     "data": {
      "text/plain": [
       "tensor([[1., 1., 1.],\n",
       "        [1., 1., 1.],\n",
       "        [1., 1., 1.],\n",
       "        [1., 1., 1.],\n",
       "        [1., 1., 1.]], dtype=torch.float64)"
      ]
     },
     "execution_count": 53,
     "metadata": {},
     "output_type": "execute_result"
    }
   ],
   "source": [
    "y = x.new_ones(5, 3, dtype = torch.double)\n",
    "y"
   ]
  },
  {
   "cell_type": "code",
   "execution_count": 49,
   "metadata": {},
   "outputs": [
    {
     "data": {
      "text/plain": [
       "tensor([[-0.8456, -0.6649,  1.5252],\n",
       "        [-1.3996,  0.9437, -0.0081],\n",
       "        [ 0.8246,  1.6463, -2.7951],\n",
       "        [-0.6780,  0.4917,  0.3252],\n",
       "        [-1.0227, -1.0819, -1.0391]], dtype=torch.float64)"
      ]
     },
     "execution_count": 49,
     "metadata": {},
     "output_type": "execute_result"
    }
   ],
   "source": [
    "x = torch.randn_like(x)\n",
    "x"
   ]
  },
  {
   "cell_type": "code",
   "execution_count": 56,
   "metadata": {},
   "outputs": [
    {
     "data": {
      "text/plain": [
       "tensor([[ 0.1544,  0.3351,  2.5252],\n",
       "        [-0.3996,  1.9437,  0.9919],\n",
       "        [ 1.8246,  2.6463, -1.7951],\n",
       "        [ 0.3220,  1.4917,  1.3252],\n",
       "        [-0.0227, -0.0819, -0.0391]], dtype=torch.float64)"
      ]
     },
     "execution_count": 56,
     "metadata": {},
     "output_type": "execute_result"
    }
   ],
   "source": [
    "z = torch.add(x, y)\n",
    "z"
   ]
  },
  {
   "cell_type": "code",
   "execution_count": 57,
   "metadata": {},
   "outputs": [
    {
     "name": "stdout",
     "output_type": "stream",
     "text": [
      "tensor([[ 0.1544,  0.3351,  2.5252],\n",
      "        [-0.3996,  1.9437,  0.9919],\n",
      "        [ 1.8246,  2.6463, -1.7951],\n",
      "        [ 0.3220,  1.4917,  1.3252],\n",
      "        [-0.0227, -0.0819, -0.0391]], dtype=torch.float64)\n"
     ]
    }
   ],
   "source": [
    "torch.add(x, y, out = z)\n",
    "print(z)"
   ]
  },
  {
   "cell_type": "code",
   "execution_count": 58,
   "metadata": {},
   "outputs": [
    {
     "name": "stdout",
     "output_type": "stream",
     "text": [
      "tensor([[-0.8456, -0.6649,  1.5252],\n",
      "        [-1.3996,  0.9437, -0.0081],\n",
      "        [ 0.8246,  1.6463, -2.7951],\n",
      "        [-0.6780,  0.4917,  0.3252],\n",
      "        [-1.0227, -1.0819, -1.0391]], dtype=torch.float64)\n"
     ]
    }
   ],
   "source": [
    "print(x * y) # поэлементнои"
   ]
  },
  {
   "cell_type": "code",
   "execution_count": 59,
   "metadata": {},
   "outputs": [
    {
     "name": "stdout",
     "output_type": "stream",
     "text": [
      "tensor([[ 0.0146,  0.0146,  0.0146,  0.0146,  0.0146],\n",
      "        [-0.4641, -0.4641, -0.4641, -0.4641, -0.4641],\n",
      "        [-0.3242, -0.3242, -0.3242, -0.3242, -0.3242],\n",
      "        [ 0.1388,  0.1388,  0.1388,  0.1388,  0.1388],\n",
      "        [-3.1436, -3.1436, -3.1436, -3.1436, -3.1436]], dtype=torch.float64)\n"
     ]
    }
   ],
   "source": [
    "print(x @ y.t())"
   ]
  },
  {
   "cell_type": "code",
   "execution_count": 62,
   "metadata": {},
   "outputs": [
    {
     "name": "stdout",
     "output_type": "stream",
     "text": [
      "torch.Size([1, 5, 3])\n",
      "torch.Size([5, 3])\n"
     ]
    }
   ],
   "source": [
    "# Добавление фиктивных размерностей \n",
    "print(x.unsqueeze(0).shape)\n",
    "print(x.unsqueeze(0).squeeze(0).shape)"
   ]
  },
  {
   "cell_type": "code",
   "execution_count": 69,
   "metadata": {},
   "outputs": [
    {
     "name": "stdout",
     "output_type": "stream",
     "text": [
      "True\n"
     ]
    }
   ],
   "source": [
    "a = np.ones((3, 5))\n",
    "x = torch.ones((3, 5))\n",
    "print(np.allclose(x.numpy(), a)) # np.allclose == одинаковые"
   ]
  },
  {
   "cell_type": "markdown",
   "metadata": {},
   "source": [
    "Работаем с градиентами руками"
   ]
  },
  {
   "cell_type": "code",
   "execution_count": 74,
   "metadata": {},
   "outputs": [
    {
     "data": {
      "image/png": "[encoded data removed]",
      "text/plain": [
       "<Figure size 432x288 with 1 Axes>"
      ]
     },
     "metadata": {
      "needs_background": "light"
     },
     "output_type": "display_data"
    }
   ],
   "source": [
    "boston = load_boston()\n",
    "plt.scatter(boston.data[:, -1], boston.target);"
   ]
  },
  {
   "cell_type": "code",
   "execution_count": 91,
   "metadata": {},
   "outputs": [],
   "source": [
    "w = torch.rand(1, requires_grad=True)\n",
    "w_2 = torch.rand(1, requires_grad=True)\n",
    "b = torch.rand(1, requires_grad=True)\n",
    "\n",
    "\n",
    "x = torch.tensor(boston.data[:, -1] / boston.data[:, -1].max(), dtype = torch.float32)\n",
    "y = torch.tensor(boston.target, dtype = torch.float32)\n",
    "\n",
    "assert w.grad is None\n",
    "assert b.grad is None"
   ]
  },
  {
   "cell_type": "code",
   "execution_count": 92,
   "metadata": {},
   "outputs": [
    {
     "name": "stdout",
     "output_type": "stream",
     "text": [
      "dL/df = tensor([-11.8745])\n",
      "dL/db = tensor([-43.2798])\n"
     ]
    }
   ],
   "source": [
    "y_pred = w * x + b\n",
    "loss = torch.mean((y_pred - y) ** 2)\n",
    "loss.backward()\n",
    "assert w.grad is not None\n",
    "assert b.grad is not None\n",
    "print(f\"dL/df = {w.grad}\")\n",
    "print(f\"dL/db = {b.grad}\")"
   ]
  },
  {
   "cell_type": "code",
   "execution_count": 100,
   "metadata": {},
   "outputs": [
    {
     "data": {
      "image/png": "[encoded data removed]",
      "text/plain": [
       "<Figure size 432x288 with 1 Axes>"
      ]
     },
     "metadata": {
      "needs_background": "light"
     },
     "output_type": "display_data"
    },
    {
     "name": "stdout",
     "output_type": "stream",
     "text": [
      "loss = 36.485107421875\n"
     ]
    }
   ],
   "source": [
    "from IPython.display import clear_output\n",
    "\n",
    "lr = 0.25\n",
    "w.grad.data.zero_()\n",
    "b.grad.data.zero_()\n",
    "w_2.grad.data.zero_()\n",
    "for i in range(100):\n",
    "    y_pred = w * x + b + w_2 * x ** 2 \n",
    "    loss = torch.mean((y_pred - y) ** 2)\n",
    "    loss.backward()\n",
    "    \n",
    "    w.data = w.data - w.grad * lr\n",
    "    b.data = b.data - b.grad * lr\n",
    "    w_2.data = w_2.data - w_2.grad * lr\n",
    "\n",
    "    w.grad.data.zero_()\n",
    "    w_2.grad.data.zero_()\n",
    "    b.grad.data.zero_()\n",
    "\n",
    "    if (i + 1)%5 == 0:\n",
    "        clear_output(True)\n",
    "        plt.scatter(x.data.numpy(), y.data.numpy())\n",
    "        plt.scatter(x.data.numpy(), y_pred.data.numpy(), color = \"orange\", linewidth=5)\n",
    "        plt.show()\n",
    "        print(f\"loss = {loss.data.numpy()}\") "
   ]
  },
  {
   "cell_type": "markdown",
   "metadata": {},
   "source": [
    "Чтобы написать нейросеть нужно освоить 3 вещи: \n",
    "1. Как формировать батчи и пихать их в сетку\n",
    "2. Как сделать сетку\n",
    "3. Как написать цикл обучения и отслеживать метрики\n"
   ]
  },
  {
   "cell_type": "markdown",
   "metadata": {},
   "source": [
    "### Формирование батчей\n",
    "\n",
    "Для того чтобы наш фреймворк подходил для батчей, необходимо создать специальный класс (унаследованный от torch.utils.data.Dataset)\n"
   ]
  },
  {
   "cell_type": "code",
   "execution_count": 123,
   "metadata": {},
   "outputs": [],
   "source": [
    "class RandomDataset(torch.utils.data.Dataset):\n",
    "    \"\"\"\n",
    "    Our random dataset\n",
    "    \"\"\"\n",
    "    def __init__(self, x, y):\n",
    "        self.x = x\n",
    "        self.y = y\n",
    "        \n",
    "    def __len__(self):\n",
    "        return len(self.x)\n",
    "    \n",
    "    def __getitem__(self, idx):\n",
    "        return {\"sample\": torch.tensor(x[idx, :], dtype=torch.float), \"target\": y[idx]}"
   ]
  },
  {
   "cell_type": "code",
   "execution_count": 125,
   "metadata": {},
   "outputs": [],
   "source": [
    "x = np.random.rand(1000, 5)\n",
    "y=  np.random.rand(1000)"
   ]
  },
  {
   "cell_type": "code",
   "execution_count": 126,
   "metadata": {},
   "outputs": [
    {
     "data": {
      "text/plain": [
       "{'sample': tensor([0.1671, 0.5703, 0.2387, 0.3862, 0.5071]),\n",
       " 'target': 0.6671790598403522}"
      ]
     },
     "execution_count": 126,
     "metadata": {},
     "output_type": "execute_result"
    }
   ],
   "source": [
    "our_dataset = RandomDataset(x, y)\n",
    "our_dataset[1]"
   ]
  },
  {
   "cell_type": "code",
   "execution_count": 127,
   "metadata": {},
   "outputs": [],
   "source": [
    "dataloader = torch.utils.data.DataLoader(our_dataset, batch_size=4)"
   ]
  },
  {
   "cell_type": "code",
   "execution_count": 128,
   "metadata": {},
   "outputs": [
    {
     "name": "stdout",
     "output_type": "stream",
     "text": [
      "Sample:\n",
      "tensor([[0.2319, 0.8733, 0.0150, 0.2286, 0.4814],\n",
      "        [0.1671, 0.5703, 0.2387, 0.3862, 0.5071],\n",
      "        [0.9030, 0.7096, 0.4413, 0.0211, 0.7292],\n",
      "        [0.5891, 0.7373, 0.2479, 0.4238, 0.5216]])\n",
      "Target:\n",
      "tensor([0.7223, 0.6672, 0.3747, 0.7532], dtype=torch.float64)\n"
     ]
    }
   ],
   "source": [
    "batch = next(iter(dataloader))\n",
    "\n",
    "print(f\"Sample:\\n{batch['sample']}\")\n",
    "print(f\"Target:\\n{batch['target']}\")"
   ]
  },
  {
   "cell_type": "markdown",
   "metadata": {},
   "source": [
    "### Как сделать сетку\n",
    "\n",
    "Можно задавать сетку через класс, а можно так:"
   ]
  },
  {
   "cell_type": "code",
   "execution_count": 129,
   "metadata": {},
   "outputs": [],
   "source": [
    "model = nn.Sequential()\n",
    "model.add_module(\"l1\", nn.Linear(5, 3))\n",
    "model.add_module(\"l2\", nn.ReLU())\n",
    "model.add_module('l3', nn.Linear(3, 1))"
   ]
  },
  {
   "cell_type": "code",
   "execution_count": 133,
   "metadata": {},
   "outputs": [],
   "source": [
    "y_pred = model(batch[\"sample\"])"
   ]
  },
  {
   "cell_type": "code",
   "execution_count": 135,
   "metadata": {},
   "outputs": [
    {
     "data": {
      "text/plain": [
       "tensor([[0.2632],\n",
       "        [0.2363],\n",
       "        [0.2760],\n",
       "        [0.2474]], grad_fn=<AddmmBackward0>)"
      ]
     },
     "execution_count": 135,
     "metadata": {},
     "output_type": "execute_result"
    }
   ],
   "source": [
    "y_pred"
   ]
  }
 ],
 "metadata": {
  "kernelspec": {
   "display_name": "Python 3.9.1 64-bit",
   "language": "python",
   "name": "python3"
  },
  "language_info": {
   "codemirror_mode": {
    "name": "ipython",
    "version": 3
   },
   "file_extension": ".py",
   "mimetype": "text/x-python",
   "name": "python",
   "nbconvert_exporter": "python",
   "pygments_lexer": "ipython3",
   "version": "3.9.1"
  },
  "orig_nbformat": 4,
  "vscode": {
   "interpreter": {
    "hash": "82ed002fa2d4956f5c6aec99bcefe0f73a9f79882f3c9e2319b14958a5896ac5"
   }
  }
 },
 "nbformat": 4,
 "nbformat_minor": 2
}
