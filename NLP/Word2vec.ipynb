{
 "cells": [
  {
   "cell_type": "code",
   "execution_count": 1,
   "id": "initial_id",
   "metadata": {
    "collapsed": true,
    "ExecuteTime": {
     "end_time": "2023-11-19T13:35:02.031446Z",
     "start_time": "2023-11-19T13:34:58.187255Z"
    }
   },
   "outputs": [
    {
     "name": "stderr",
     "output_type": "stream",
     "text": [
      "--2023-11-19 16:34:58--  https://s3.amazonaws.com/research.metamind.io/wikitext/wikitext-2-v1.zip\n",
      "Connecting to 10.44.2.90:3128... connected.\n",
      "Proxy request sent, awaiting response... 200 OK\n",
      "Length: 4475746 (4.3M) [application/zip]\n",
      "Saving to: ‘wikitext-2-v1.zip.1’\n",
      "\n",
      "     0K .......... .......... .......... .......... ..........  1%  199K 22s\n",
      "    50K .......... .......... .......... .......... ..........  2%  111M 11s\n",
      "   100K .......... .......... .......... .......... ..........  3%  396K 11s\n",
      "   150K .......... .......... .......... .......... ..........  4% 84.3M 8s\n",
      "   200K .......... .......... .......... .......... ..........  5%  131M 6s\n",
      "   250K .......... .......... .......... .......... ..........  6% 5.43M 5s\n",
      "   300K .......... .......... .......... .......... ..........  8%  430K 6s\n",
      "   350K .......... .......... .......... .......... ..........  9% 58.2M 5s\n",
      "   400K .......... .......... .......... .......... .......... 10% 91.6M 4s\n",
      "   450K .......... .......... .......... .......... .......... 11%  135M 4s\n",
      "   500K .......... .......... .......... .......... .......... 12%  144M 4s\n",
      "   550K .......... .......... .......... .......... .......... 13% 12.3M 3s\n",
      "   600K .......... .......... .......... .......... .......... 14%  429K 4s\n",
      "   650K .......... .......... .......... .......... .......... 16% 14.0M 3s\n",
      "   700K .......... .......... .......... .......... .......... 17% 45.7M 3s\n",
      "   750K .......... .......... .......... .......... .......... 18%  126M 3s\n",
      "   800K .......... .......... .......... .......... .......... 19%  133M 3s\n",
      "   850K .......... .......... .......... .......... .......... 20%  135M 2s\n",
      "   900K .......... .......... .......... .......... .......... 21% 8.72M 2s\n",
      "   950K .......... .......... .......... .......... .......... 22%  132M 2s\n",
      "  1000K .......... .......... .......... .......... .......... 24%  137M 2s\n",
      "  1050K .......... .......... .......... .......... .......... 25%  135M 2s\n",
      "  1100K .......... .......... .......... .......... .......... 26%  117M 2s\n",
      "  1150K .......... .......... .......... .......... .......... 27%  150M 2s\n",
      "  1200K .......... .......... .......... .......... .......... 28%  326M 2s\n",
      "  1250K .......... .......... .......... .......... .......... 29%  296M 2s\n",
      "  1300K .......... .......... .......... .......... .......... 30%  431K 2s\n",
      "  1350K .......... .......... .......... .......... .......... 32% 67.9M 2s\n",
      "  1400K .......... .......... .......... .......... .......... 33% 78.1M 2s\n",
      "  1450K .......... .......... .......... .......... .......... 34%  132M 1s\n",
      "  1500K .......... .......... .......... .......... .......... 35%  133M 1s\n",
      "  1550K .......... .......... .......... .......... .......... 36%  134M 1s\n",
      "  1600K .......... .......... .......... .......... .......... 37%  138M 1s\n",
      "  1650K .......... .......... .......... .......... .......... 38% 36.4M 1s\n",
      "  1700K .......... .......... .......... .......... .......... 40%  172M 1s\n",
      "  1750K .......... .......... .......... .......... .......... 41%  234M 1s\n",
      "  1800K .......... .......... .......... .......... .......... 42%  182M 1s\n",
      "  1850K .......... .......... .......... .......... .......... 43%  403K 1s\n",
      "  1900K .......... .......... .......... .......... .......... 44% 33.9M 1s\n",
      "  1950K .......... .......... .......... .......... .......... 45%  410K 1s\n",
      "  2000K .......... .......... .......... .......... .......... 46% 28.8M 1s\n",
      "  2050K .......... .......... .......... .......... .......... 48%  401K 1s\n",
      "  2100K .......... .......... .......... .......... .......... 49% 34.5M 1s\n",
      "  2150K .......... .......... .......... .......... .......... 50%  103M 1s\n",
      "  2200K .......... .......... .......... .......... .......... 51%  106M 1s\n",
      "  2250K .......... .......... .......... .......... .......... 52%  101M 1s\n",
      "  2300K .......... .......... .......... .......... .......... 53%  122M 1s\n",
      "  2350K .......... .......... .......... .......... .......... 54%  146M 1s\n",
      "  2400K .......... .......... .......... .......... .......... 56%  406K 1s\n",
      "  2450K .......... .......... .......... .......... .......... 57% 52.6M 1s\n",
      "  2500K .......... .......... .......... .......... .......... 58%  102M 1s\n",
      "  2550K .......... .......... .......... .......... .......... 59%  109M 1s\n",
      "  2600K .......... .......... .......... .......... .......... 60% 96.9M 1s\n",
      "  2650K .......... .......... .......... .......... .......... 61% 84.2M 1s\n",
      "  2700K .......... .......... .......... .......... .......... 62%  393K 1s\n",
      "  2750K .......... .......... .......... .......... .......... 64% 86.7M 1s\n",
      "  2800K .......... .......... .......... .......... .......... 65%  126M 1s\n",
      "  2850K .......... .......... .......... .......... .......... 66%  104M 1s\n",
      "  2900K .......... .......... .......... .......... .......... 67%  118M 1s\n",
      "  2950K .......... .......... .......... .......... .......... 68%  130M 1s\n",
      "  3000K .......... .......... .......... .......... .......... 69%  121M 1s\n",
      "  3050K .......... .......... .......... .......... .......... 70%  405K 1s\n",
      "  3100K .......... .......... .......... .......... .......... 72%  195M 1s\n",
      "  3150K .......... .......... .......... .......... .......... 73% 88.1M 1s\n",
      "  3200K .......... .......... .......... .......... .......... 74%  130M 1s\n",
      "  3250K .......... .......... .......... .......... .......... 75%  101M 0s\n",
      "  3300K .......... .......... .......... .......... .......... 76% 90.1M 0s\n",
      "  3350K .......... .......... .......... .......... .......... 77%  115M 0s\n",
      "  3400K .......... .......... .......... .......... .......... 78% 88.7M 0s\n",
      "  3450K .......... .......... .......... .......... .......... 80%  400K 0s\n",
      "  3500K .......... .......... .......... .......... .......... 81%  143M 0s\n",
      "  3550K .......... .......... .......... .......... .......... 82%  290M 0s\n",
      "  3600K .......... .......... .......... .......... .......... 83%  173M 0s\n",
      "  3650K .......... .......... .......... .......... .......... 84%  191M 0s\n",
      "  3700K .......... .......... .......... .......... .......... 85%  132M 0s\n",
      "  3750K .......... .......... .......... .......... .......... 86%  182M 0s\n",
      "  3800K .......... .......... .......... .......... .......... 88%  401K 0s\n",
      "  3850K .......... .......... .......... .......... .......... 89% 95.3M 0s\n",
      "  3900K .......... .......... .......... .......... .......... 90%  116M 0s\n",
      "  3950K .......... .......... .......... .......... .......... 91%  120M 0s\n",
      "  4000K .......... .......... .......... .......... .......... 92%  131M 0s\n",
      "  4050K .......... .......... .......... .......... .......... 93%  109M 0s\n",
      "  4100K .......... .......... .......... .......... .......... 94% 90.0M 0s\n",
      "  4150K .......... .......... .......... .......... .......... 96%  407K 0s\n",
      "  4200K .......... .......... .......... .......... .......... 97%  341M 0s\n",
      "  4250K .......... .......... .......... .......... .......... 98%  101M 0s\n",
      "  4300K .......... .......... .......... .......... .......... 99% 88.8M 0s\n",
      "  4350K .......... ..........                                 100%  363M=1.9s\n",
      "\n",
      "2023-11-19 16:35:00 (2.25 MB/s) - ‘wikitext-2-v1.zip.1’ saved [4475746/4475746]\n",
      "\n"
     ]
    },
    {
     "name": "stdout",
     "output_type": "stream",
     "text": [
      "Archive:  wikitext-2-v1.zip\n"
     ]
    },
    {
     "name": "stderr",
     "output_type": "stream",
     "text": [
      "replace wikitext-2/wiki.test.tokens? [y]es, [n]o, [A]ll, [N]one, [r]ename:  NULL\n",
      "(EOF or read error, treating as \"[N]one\" ...)\n"
     ]
    },
    {
     "ename": "CalledProcessError",
     "evalue": "Command 'b'wget https://s3.amazonaws.com/research.metamind.io/wikitext/wikitext-2-v1.zip\\nunzip wikitext-2-v1.zip\\n'' returned non-zero exit status 1.",
     "output_type": "error",
     "traceback": [
      "\u001B[0;31m---------------------------------------------------------------------------\u001B[0m",
      "\u001B[0;31mCalledProcessError\u001B[0m                        Traceback (most recent call last)",
      "Cell \u001B[0;32mIn[1], line 1\u001B[0m\n\u001B[0;32m----> 1\u001B[0m \u001B[43mget_ipython\u001B[49m\u001B[43m(\u001B[49m\u001B[43m)\u001B[49m\u001B[38;5;241;43m.\u001B[39;49m\u001B[43mrun_cell_magic\u001B[49m\u001B[43m(\u001B[49m\u001B[38;5;124;43m'\u001B[39;49m\u001B[38;5;124;43mbash\u001B[39;49m\u001B[38;5;124;43m'\u001B[39;49m\u001B[43m,\u001B[49m\u001B[43m \u001B[49m\u001B[38;5;124;43m'\u001B[39;49m\u001B[38;5;124;43m'\u001B[39;49m\u001B[43m,\u001B[49m\u001B[43m \u001B[49m\u001B[38;5;124;43m'\u001B[39;49m\u001B[38;5;124;43mwget https://s3.amazonaws.com/research.metamind.io/wikitext/wikitext-2-v1.zip\u001B[39;49m\u001B[38;5;130;43;01m\\n\u001B[39;49;00m\u001B[38;5;124;43munzip wikitext-2-v1.zip\u001B[39;49m\u001B[38;5;130;43;01m\\n\u001B[39;49;00m\u001B[38;5;124;43m'\u001B[39;49m\u001B[43m)\u001B[49m\n",
      "File \u001B[0;32m~/venv/lib/python3.10/site-packages/IPython/core/interactiveshell.py:2515\u001B[0m, in \u001B[0;36mInteractiveShell.run_cell_magic\u001B[0;34m(self, magic_name, line, cell)\u001B[0m\n\u001B[1;32m   2513\u001B[0m \u001B[38;5;28;01mwith\u001B[39;00m \u001B[38;5;28mself\u001B[39m\u001B[38;5;241m.\u001B[39mbuiltin_trap:\n\u001B[1;32m   2514\u001B[0m     args \u001B[38;5;241m=\u001B[39m (magic_arg_s, cell)\n\u001B[0;32m-> 2515\u001B[0m     result \u001B[38;5;241m=\u001B[39m \u001B[43mfn\u001B[49m\u001B[43m(\u001B[49m\u001B[38;5;241;43m*\u001B[39;49m\u001B[43margs\u001B[49m\u001B[43m,\u001B[49m\u001B[43m \u001B[49m\u001B[38;5;241;43m*\u001B[39;49m\u001B[38;5;241;43m*\u001B[39;49m\u001B[43mkwargs\u001B[49m\u001B[43m)\u001B[49m\n\u001B[1;32m   2517\u001B[0m \u001B[38;5;66;03m# The code below prevents the output from being displayed\u001B[39;00m\n\u001B[1;32m   2518\u001B[0m \u001B[38;5;66;03m# when using magics with decorator @output_can_be_silenced\u001B[39;00m\n\u001B[1;32m   2519\u001B[0m \u001B[38;5;66;03m# when the last Python token in the expression is a ';'.\u001B[39;00m\n\u001B[1;32m   2520\u001B[0m \u001B[38;5;28;01mif\u001B[39;00m \u001B[38;5;28mgetattr\u001B[39m(fn, magic\u001B[38;5;241m.\u001B[39mMAGIC_OUTPUT_CAN_BE_SILENCED, \u001B[38;5;28;01mFalse\u001B[39;00m):\n",
      "File \u001B[0;32m~/venv/lib/python3.10/site-packages/IPython/core/magics/script.py:154\u001B[0m, in \u001B[0;36mScriptMagics._make_script_magic.<locals>.named_script_magic\u001B[0;34m(line, cell)\u001B[0m\n\u001B[1;32m    152\u001B[0m \u001B[38;5;28;01melse\u001B[39;00m:\n\u001B[1;32m    153\u001B[0m     line \u001B[38;5;241m=\u001B[39m script\n\u001B[0;32m--> 154\u001B[0m \u001B[38;5;28;01mreturn\u001B[39;00m \u001B[38;5;28;43mself\u001B[39;49m\u001B[38;5;241;43m.\u001B[39;49m\u001B[43mshebang\u001B[49m\u001B[43m(\u001B[49m\u001B[43mline\u001B[49m\u001B[43m,\u001B[49m\u001B[43m \u001B[49m\u001B[43mcell\u001B[49m\u001B[43m)\u001B[49m\n",
      "File \u001B[0;32m~/venv/lib/python3.10/site-packages/IPython/core/magics/script.py:314\u001B[0m, in \u001B[0;36mScriptMagics.shebang\u001B[0;34m(self, line, cell)\u001B[0m\n\u001B[1;32m    309\u001B[0m \u001B[38;5;28;01mif\u001B[39;00m args\u001B[38;5;241m.\u001B[39mraise_error \u001B[38;5;129;01mand\u001B[39;00m p\u001B[38;5;241m.\u001B[39mreturncode \u001B[38;5;241m!=\u001B[39m \u001B[38;5;241m0\u001B[39m:\n\u001B[1;32m    310\u001B[0m     \u001B[38;5;66;03m# If we get here and p.returncode is still None, we must have\u001B[39;00m\n\u001B[1;32m    311\u001B[0m     \u001B[38;5;66;03m# killed it but not yet seen its return code. We don't wait for it,\u001B[39;00m\n\u001B[1;32m    312\u001B[0m     \u001B[38;5;66;03m# in case it's stuck in uninterruptible sleep. -9 = SIGKILL\u001B[39;00m\n\u001B[1;32m    313\u001B[0m     rc \u001B[38;5;241m=\u001B[39m p\u001B[38;5;241m.\u001B[39mreturncode \u001B[38;5;129;01mor\u001B[39;00m \u001B[38;5;241m-\u001B[39m\u001B[38;5;241m9\u001B[39m\n\u001B[0;32m--> 314\u001B[0m     \u001B[38;5;28;01mraise\u001B[39;00m CalledProcessError(rc, cell)\n",
      "\u001B[0;31mCalledProcessError\u001B[0m: Command 'b'wget https://s3.amazonaws.com/research.metamind.io/wikitext/wikitext-2-v1.zip\\nunzip wikitext-2-v1.zip\\n'' returned non-zero exit status 1."
     ]
    }
   ],
   "source": [
    "%%bash\n",
    "wget https://s3.amazonaws.com/research.metamind.io/wikitext/wikitext-2-v1.zip\n",
    "unzip wikitext-2-v1.zip"
   ]
  },
  {
   "cell_type": "code",
   "execution_count": 58,
   "outputs": [],
   "source": [
    "import torch\n",
    "import numpy as np\n",
    "from torch import nn\n",
    "from torch.utils.data import Dataset, DataLoader\n",
    "\n",
    "from  torchtext.data.utils import get_tokenizer\n",
    "from torchtext.vocab import build_vocab_from_iterator\n",
    "\n",
    "import matplotlib.pyplot as plt\n",
    "import seaborn as sns\n",
    "\n",
    "from scripts.plot_loss import plot_losses\n",
    "from scripts.train_model import train\n",
    "from scripts.similiar import get_similar\n",
    "\n",
    "sns.set_style('whitegrid')\n",
    "plt.rcParams.update({'font.size': 14})"
   ],
   "metadata": {
    "collapsed": false,
    "ExecuteTime": {
     "end_time": "2023-11-19T14:03:25.228508Z",
     "start_time": "2023-11-19T14:03:25.142874Z"
    }
   },
   "id": "3aaab01db7fa66d4"
  },
  {
   "cell_type": "code",
   "execution_count": 55,
   "outputs": [
    {
     "name": "stdout",
     "output_type": "stream",
     "text": [
      "plot_loss.py  __pycache__  similiar.py\ttrain_model.py\r\n"
     ]
    }
   ],
   "source": [
    "!ls scripts"
   ],
   "metadata": {
    "collapsed": false,
    "ExecuteTime": {
     "end_time": "2023-11-19T14:02:56.063225Z",
     "start_time": "2023-11-19T14:02:55.904616Z"
    }
   },
   "id": "f5788c7af106a6e0"
  },
  {
   "cell_type": "code",
   "execution_count": 51,
   "outputs": [],
   "source": [
    "TRAIN_TOKENS = 'wikitext-2/wiki.train.tokens'\n",
    "VALID_TOKENS = 'wikitext-2/wiki.valid.tokens'\n",
    "\n",
    "SKIPGRAM_N_WORDS = 4\n",
    "MIN_WORD_FREQUENCY = 20\n",
    "MAX_SEQUENCE_LENGTH = 256\n",
    "\n",
    "EMBED_DIM = 256\n",
    "EMBED_MAX_NORM = 1\n",
    "BATCH_SIZE = 16\n",
    "NUM_EPOCHS = 20\n",
    "\n",
    "device = torch.device('cuda:0' if torch.cuda.is_available() else 'cpu')"
   ],
   "metadata": {
    "collapsed": false,
    "ExecuteTime": {
     "end_time": "2023-11-19T13:50:56.135552Z",
     "start_time": "2023-11-19T13:50:56.121193Z"
    }
   },
   "id": "3763bbd39b5eca47"
  },
  {
   "cell_type": "code",
   "execution_count": 16,
   "outputs": [],
   "source": [
    "tokenizer = get_tokenizer(\"basic_english\", language=\"en\")\n",
    "\n",
    "def load_and_preprocess_dataset(path):\n",
    "    with open(path, 'r') as file:\n",
    "        lines = file.readlines()\n",
    "\n",
    "    data = list(filter(\n",
    "        lambda sent: len(sent) > SKIPGRAM_N_WORDS * 2,\n",
    "        map(tokenizer, lines)\n",
    "    ))\n",
    "    return data"
   ],
   "metadata": {
    "collapsed": false,
    "ExecuteTime": {
     "end_time": "2023-11-19T13:39:12.009199Z",
     "start_time": "2023-11-19T13:39:11.901987Z"
    }
   },
   "id": "15f57a6172957536"
  },
  {
   "cell_type": "code",
   "execution_count": 17,
   "outputs": [
    {
     "name": "stdout",
     "output_type": "stream",
     "text": [
      "Num sentences: train - 17715, valid - 1892)\n",
      "Total tokens: train - 2014338, valid - 211057)\n",
      "Average tokens in sentence: 113.71\n"
     ]
    }
   ],
   "source": [
    "train_data = load_and_preprocess_dataset(TRAIN_TOKENS)\n",
    "valid_data = load_and_preprocess_dataset(VALID_TOKENS)\n",
    "\n",
    "total_train_tokens = sum(len(sent) for sent in train_data)\n",
    "total_valid_tokens = sum(len(sent) for sent in valid_data)\n",
    "\n",
    "print(f'Num sentences: train - {len(train_data)}, valid - {len(valid_data)})')\n",
    "print(f'Total tokens: train - {total_train_tokens}, valid - {total_valid_tokens})')\n",
    "print(f'Average tokens in sentence: {total_train_tokens / len(train_data):.2f}')"
   ],
   "metadata": {
    "collapsed": false,
    "ExecuteTime": {
     "end_time": "2023-11-19T13:39:30.394326Z",
     "start_time": "2023-11-19T13:39:28.800881Z"
    }
   },
   "id": "b13a8281417f67c5"
  },
  {
   "cell_type": "code",
   "execution_count": 23,
   "outputs": [
    {
     "name": "stdout",
     "output_type": "stream",
     "text": [
      "Vocab size: 8076\n"
     ]
    }
   ],
   "source": [
    "vocab = build_vocab_from_iterator(train_data, specials=[\"<unk>\"], min_freq=MIN_WORD_FREQUENCY)\n",
    "vocab.set_default_index(vocab[\"<unk>\"])\n",
    "\n",
    "VOCAB_SIZE = len(vocab)\n",
    "print(f'Vocab size: {VOCAB_SIZE}')"
   ],
   "metadata": {
    "collapsed": false,
    "ExecuteTime": {
     "end_time": "2023-11-19T13:41:16.418417Z",
     "start_time": "2023-11-19T13:41:16.220051Z"
    }
   },
   "id": "a90c99868c904d22"
  },
  {
   "cell_type": "code",
   "execution_count": 43,
   "outputs": [
    {
     "data": {
      "text/plain": "[452, 197, 22, 452, 197, 22, 8]"
     },
     "execution_count": 43,
     "metadata": {},
     "output_type": "execute_result"
    }
   ],
   "source": [
    "# vocab(['<unk>'])\n",
    "# train_data[102]\n",
    "# vocab(train_data[102])\n",
    "vocab(['my', 'name', 'is','my', 'name', 'is', 'a'])"
   ],
   "metadata": {
    "collapsed": false,
    "ExecuteTime": {
     "end_time": "2023-11-19T13:47:26.618713Z",
     "start_time": "2023-11-19T13:47:26.615879Z"
    }
   },
   "id": "6598ee069c1d0de5"
  },
  {
   "cell_type": "code",
   "execution_count": 44,
   "outputs": [],
   "source": [
    "def collate_fn(batch):\n",
    "    \"\"\"\n",
    "    Collate_fn for Skip-Gram model to be used with Dataloader.\n",
    "    `batch` is expected to be list of text paragrahs.\n",
    "\n",
    "    Context is represented as N=SKIPGRAM_N_WORDS past words \n",
    "    and N=SKIPGRAM_N_WORDS future words.\n",
    "\n",
    "    Long paragraphs will be truncated to contain\n",
    "    no more that MAX_SEQUENCE_LENGTH tokens.\n",
    "\n",
    "    Each element in `batch_input` is a middle word.\n",
    "    Each element in `batch_output` is a context word.\n",
    "    \"\"\"\n",
    "    batch_input, batch_output = [], []\n",
    "    for text in batch:\n",
    "        text_tokens_ids = vocab(text)\n",
    "\n",
    "        if MAX_SEQUENCE_LENGTH:\n",
    "            text_tokens_ids = text_tokens_ids[:MAX_SEQUENCE_LENGTH]\n",
    "\n",
    "        for idx in range(len(text_tokens_ids) - SKIPGRAM_N_WORDS * 2):\n",
    "            token_id_sequence = text_tokens_ids[idx : (idx + SKIPGRAM_N_WORDS * 2 + 1)]\n",
    "            input_ = token_id_sequence.pop(SKIPGRAM_N_WORDS)\n",
    "            outputs = token_id_sequence\n",
    "\n",
    "            batch_input += [input_] * len(outputs)\n",
    "            batch_output += outputs\n",
    "\n",
    "    batch_input = torch.tensor(batch_input, dtype=torch.long)\n",
    "    batch_output = torch.tensor(batch_output, dtype=torch.long)\n",
    "    return batch_input, batch_output"
   ],
   "metadata": {
    "collapsed": false,
    "ExecuteTime": {
     "end_time": "2023-11-19T13:47:42.732396Z",
     "start_time": "2023-11-19T13:47:42.722880Z"
    }
   },
   "id": "d16a4f8fac67f38b"
  },
  {
   "cell_type": "code",
   "execution_count": 45,
   "outputs": [],
   "source": [
    "train_loader = DataLoader(train_data, batch_size=BATCH_SIZE, num_workers=4,\n",
    "                          pin_memory=True, collate_fn=collate_fn, shuffle=True)\n",
    "valid_loader = DataLoader(valid_data, batch_size=BATCH_SIZE, num_workers=4,\n",
    "                          pin_memory=True, collate_fn=collate_fn)"
   ],
   "metadata": {
    "collapsed": false,
    "ExecuteTime": {
     "end_time": "2023-11-19T13:48:21.374237Z",
     "start_time": "2023-11-19T13:48:21.293167Z"
    }
   },
   "id": "4a21f50ea6863606"
  },
  {
   "cell_type": "code",
   "execution_count": 49,
   "outputs": [],
   "source": [
    "class Word2VecModel(nn.Module):\n",
    "    def __init__(self, embed_dim, embed_max_norm, vocab_size):\n",
    "        super().__init__()\n",
    "        self.embeds = nn.Embedding(num_embeddings=vocab_size, embedding_dim=embed_dim,\n",
    "                                   max_norm=embed_max_norm)\n",
    "        self.decoder = nn.Linear(embed_dim, vocab_size)\n",
    "        \n",
    "    def forward(self, tokens):\n",
    "        embeds = self.embeds(tokens)\n",
    "        logits = self.decoder(embeds)\n",
    "        return logits"
   ],
   "metadata": {
    "collapsed": false,
    "ExecuteTime": {
     "end_time": "2023-11-19T13:50:47.977183Z",
     "start_time": "2023-11-19T13:50:47.907039Z"
    }
   },
   "id": "623d95ffa9bc3428"
  },
  {
   "cell_type": "code",
   "execution_count": 52,
   "outputs": [],
   "source": [
    "model = Word2VecModel(embed_dim=EMBED_DIM, embed_max_norm=EMBED_MAX_NORM,\n",
    "                      vocab_size=VOCAB_SIZE).to(device)\n",
    "optimizer = torch.optim.Adam(model.parameters(), lr=1e-3)\n",
    "scheduler = torch.optim.lr_scheduler.CosineAnnealingLR(optimizer, NUM_EPOCHS)\n",
    "criterion = nn.CrossEntropyLoss()"
   ],
   "metadata": {
    "collapsed": false,
    "ExecuteTime": {
     "end_time": "2023-11-19T13:51:03.786412Z",
     "start_time": "2023-11-19T13:51:03.160412Z"
    }
   },
   "id": "7a58c7f0e0914cc0"
  },
  {
   "cell_type": "code",
   "execution_count": 53,
   "outputs": [
    {
     "data": {
      "text/plain": "<Figure size 1300x400 with 2 Axes>",
      "image/png": "[encoded data removed]"
     },
     "metadata": {},
     "output_type": "display_data"
    },
    {
     "name": "stderr",
     "output_type": "stream",
     "text": [
      "Training:  49%|██████████████▊               | 548/1108 [00:28<00:29, 18.90it/s]\n"
     ]
    },
    {
     "ename": "KeyboardInterrupt",
     "evalue": "",
     "output_type": "error",
     "traceback": [
      "\u001B[0;31m---------------------------------------------------------------------------\u001B[0m",
      "\u001B[0;31mKeyboardInterrupt\u001B[0m                         Traceback (most recent call last)",
      "Cell \u001B[0;32mIn[53], line 1\u001B[0m\n\u001B[0;32m----> 1\u001B[0m \u001B[43mtrain\u001B[49m\u001B[43m(\u001B[49m\u001B[43mNUM_EPOCHS\u001B[49m\u001B[38;5;241;43m=\u001B[39;49m\u001B[43mNUM_EPOCHS\u001B[49m\u001B[43m,\u001B[49m\u001B[43m \u001B[49m\u001B[43mmodel\u001B[49m\u001B[38;5;241;43m=\u001B[39;49m\u001B[43mmodel\u001B[49m\u001B[43m,\u001B[49m\u001B[43m \u001B[49m\u001B[43mtrain_loader\u001B[49m\u001B[38;5;241;43m=\u001B[39;49m\u001B[43mtrain_loader\u001B[49m\u001B[43m,\u001B[49m\u001B[43m \u001B[49m\u001B[43mtest_loader\u001B[49m\u001B[38;5;241;43m=\u001B[39;49m\u001B[43mvalid_loader\u001B[49m\u001B[43m,\u001B[49m\n\u001B[1;32m      2\u001B[0m \u001B[43m      \u001B[49m\u001B[43moptimizer\u001B[49m\u001B[38;5;241;43m=\u001B[39;49m\u001B[43moptimizer\u001B[49m\u001B[43m,\u001B[49m\u001B[43m \u001B[49m\u001B[43mscheduler\u001B[49m\u001B[38;5;241;43m=\u001B[39;49m\u001B[43mscheduler\u001B[49m\u001B[43m,\u001B[49m\u001B[43m \u001B[49m\u001B[43mcriterion\u001B[49m\u001B[38;5;241;43m=\u001B[39;49m\u001B[43mcriterion\u001B[49m\u001B[43m,\u001B[49m\u001B[43m \u001B[49m\u001B[43mdevice\u001B[49m\u001B[38;5;241;43m=\u001B[39;49m\u001B[43mdevice\u001B[49m\u001B[43m)\u001B[49m\n",
      "File \u001B[0;32m~/scripts/train_model.py:31\u001B[0m, in \u001B[0;36mtrain\u001B[0;34m(NUM_EPOCHS, model, optimizer, criterion, train_loader, test_loader, scheduler, device)\u001B[0m\n\u001B[1;32m     29\u001B[0m \u001B[38;5;66;03m# logits: batch_size x num_classes\u001B[39;00m\n\u001B[1;32m     30\u001B[0m loss \u001B[38;5;241m=\u001B[39m criterion(logits, labels)\n\u001B[0;32m---> 31\u001B[0m \u001B[43mloss\u001B[49m\u001B[38;5;241;43m.\u001B[39;49m\u001B[43mbackward\u001B[49m\u001B[43m(\u001B[49m\u001B[43m)\u001B[49m\n\u001B[1;32m     32\u001B[0m optimizer\u001B[38;5;241m.\u001B[39mstep()\n\u001B[1;32m     34\u001B[0m train_loss \u001B[38;5;241m+\u001B[39m\u001B[38;5;241m=\u001B[39m loss\u001B[38;5;241m.\u001B[39mitem() \u001B[38;5;241m*\u001B[39m images\u001B[38;5;241m.\u001B[39mshape[\u001B[38;5;241m0\u001B[39m]\n",
      "File \u001B[0;32m~/venv/lib/python3.10/site-packages/torch/_tensor.py:492\u001B[0m, in \u001B[0;36mTensor.backward\u001B[0;34m(self, gradient, retain_graph, create_graph, inputs)\u001B[0m\n\u001B[1;32m    482\u001B[0m \u001B[38;5;28;01mif\u001B[39;00m has_torch_function_unary(\u001B[38;5;28mself\u001B[39m):\n\u001B[1;32m    483\u001B[0m     \u001B[38;5;28;01mreturn\u001B[39;00m handle_torch_function(\n\u001B[1;32m    484\u001B[0m         Tensor\u001B[38;5;241m.\u001B[39mbackward,\n\u001B[1;32m    485\u001B[0m         (\u001B[38;5;28mself\u001B[39m,),\n\u001B[0;32m   (...)\u001B[0m\n\u001B[1;32m    490\u001B[0m         inputs\u001B[38;5;241m=\u001B[39minputs,\n\u001B[1;32m    491\u001B[0m     )\n\u001B[0;32m--> 492\u001B[0m \u001B[43mtorch\u001B[49m\u001B[38;5;241;43m.\u001B[39;49m\u001B[43mautograd\u001B[49m\u001B[38;5;241;43m.\u001B[39;49m\u001B[43mbackward\u001B[49m\u001B[43m(\u001B[49m\n\u001B[1;32m    493\u001B[0m \u001B[43m    \u001B[49m\u001B[38;5;28;43mself\u001B[39;49m\u001B[43m,\u001B[49m\u001B[43m \u001B[49m\u001B[43mgradient\u001B[49m\u001B[43m,\u001B[49m\u001B[43m \u001B[49m\u001B[43mretain_graph\u001B[49m\u001B[43m,\u001B[49m\u001B[43m \u001B[49m\u001B[43mcreate_graph\u001B[49m\u001B[43m,\u001B[49m\u001B[43m \u001B[49m\u001B[43minputs\u001B[49m\u001B[38;5;241;43m=\u001B[39;49m\u001B[43minputs\u001B[49m\n\u001B[1;32m    494\u001B[0m \u001B[43m\u001B[49m\u001B[43m)\u001B[49m\n",
      "File \u001B[0;32m~/venv/lib/python3.10/site-packages/torch/autograd/__init__.py:251\u001B[0m, in \u001B[0;36mbackward\u001B[0;34m(tensors, grad_tensors, retain_graph, create_graph, grad_variables, inputs)\u001B[0m\n\u001B[1;32m    246\u001B[0m     retain_graph \u001B[38;5;241m=\u001B[39m create_graph\n\u001B[1;32m    248\u001B[0m \u001B[38;5;66;03m# The reason we repeat the same comment below is that\u001B[39;00m\n\u001B[1;32m    249\u001B[0m \u001B[38;5;66;03m# some Python versions print out the first line of a multi-line function\u001B[39;00m\n\u001B[1;32m    250\u001B[0m \u001B[38;5;66;03m# calls in the traceback and some print out the last line\u001B[39;00m\n\u001B[0;32m--> 251\u001B[0m \u001B[43mVariable\u001B[49m\u001B[38;5;241;43m.\u001B[39;49m\u001B[43m_execution_engine\u001B[49m\u001B[38;5;241;43m.\u001B[39;49m\u001B[43mrun_backward\u001B[49m\u001B[43m(\u001B[49m\u001B[43m  \u001B[49m\u001B[38;5;66;43;03m# Calls into the C++ engine to run the backward pass\u001B[39;49;00m\n\u001B[1;32m    252\u001B[0m \u001B[43m    \u001B[49m\u001B[43mtensors\u001B[49m\u001B[43m,\u001B[49m\n\u001B[1;32m    253\u001B[0m \u001B[43m    \u001B[49m\u001B[43mgrad_tensors_\u001B[49m\u001B[43m,\u001B[49m\n\u001B[1;32m    254\u001B[0m \u001B[43m    \u001B[49m\u001B[43mretain_graph\u001B[49m\u001B[43m,\u001B[49m\n\u001B[1;32m    255\u001B[0m \u001B[43m    \u001B[49m\u001B[43mcreate_graph\u001B[49m\u001B[43m,\u001B[49m\n\u001B[1;32m    256\u001B[0m \u001B[43m    \u001B[49m\u001B[43minputs\u001B[49m\u001B[43m,\u001B[49m\n\u001B[1;32m    257\u001B[0m \u001B[43m    \u001B[49m\u001B[43mallow_unreachable\u001B[49m\u001B[38;5;241;43m=\u001B[39;49m\u001B[38;5;28;43;01mTrue\u001B[39;49;00m\u001B[43m,\u001B[49m\n\u001B[1;32m    258\u001B[0m \u001B[43m    \u001B[49m\u001B[43maccumulate_grad\u001B[49m\u001B[38;5;241;43m=\u001B[39;49m\u001B[38;5;28;43;01mTrue\u001B[39;49;00m\u001B[43m,\u001B[49m\n\u001B[1;32m    259\u001B[0m \u001B[43m\u001B[49m\u001B[43m)\u001B[49m\n",
      "\u001B[0;31mKeyboardInterrupt\u001B[0m: "
     ]
    }
   ],
   "source": [
    "train(NUM_EPOCHS=NUM_EPOCHS, model=model, train_loader=train_loader, test_loader=valid_loader,\n",
    "      optimizer=optimizer, scheduler=scheduler, criterion=criterion, device=device)"
   ],
   "metadata": {
    "collapsed": false
   },
   "id": "547d5144e2184825"
  },
  {
   "cell_type": "code",
   "execution_count": 62,
   "outputs": [
    {
     "name": "stdout",
     "output_type": "stream",
     "text": [
      "Processing query \"woman\"\n",
      "Found word \"woman\" in vocab\n",
      "Top similar:\n",
      "    woman: sim = 1.0000\n",
      "    girl: sim = 0.8009\n",
      "    man: sim = 0.7556\n",
      "    lover: sim = 0.7481\n",
      "    boyfriend: sim = 0.7434\n"
     ]
    }
   ],
   "source": [
    "get_similar('woman')"
   ],
   "metadata": {
    "collapsed": false,
    "ExecuteTime": {
     "end_time": "2023-11-19T14:03:57.759232Z",
     "start_time": "2023-11-19T14:03:57.745931Z"
    }
   },
   "id": "ec9ba1ab411e2dca"
  },
  {
   "cell_type": "markdown",
   "source": [
    "### FastText for sentiment classification"
   ],
   "metadata": {
    "collapsed": false
   },
   "id": "33f76bb3943e76aa"
  },
  {
   "cell_type": "code",
   "execution_count": 63,
   "outputs": [
    {
     "name": "stderr",
     "output_type": "stream",
     "text": [
      "Traceback (most recent call last):\n",
      "  File \"/home/vdimitrov/venv/bin/kaggle\", line 33, in <module>\n",
      "    sys.exit(load_entry_point('kaggle==1.5.16', 'console_scripts', 'kaggle')())\n",
      "  File \"/home/vdimitrov/venv/bin/kaggle\", line 25, in importlib_load_entry_point\n",
      "    return next(matches).load()\n",
      "  File \"/usr/lib/python3.10/importlib/metadata/__init__.py\", line 171, in load\n",
      "    module = import_module(match.group('module'))\n",
      "  File \"/usr/lib/python3.10/importlib/__init__.py\", line 126, in import_module\n",
      "    return _bootstrap._gcd_import(name[level:], package, level)\n",
      "  File \"<frozen importlib._bootstrap>\", line 1050, in _gcd_import\n",
      "  File \"<frozen importlib._bootstrap>\", line 1027, in _find_and_load\n",
      "  File \"<frozen importlib._bootstrap>\", line 992, in _find_and_load_unlocked\n",
      "  File \"<frozen importlib._bootstrap>\", line 241, in _call_with_frames_removed\n",
      "  File \"<frozen importlib._bootstrap>\", line 1050, in _gcd_import\n",
      "  File \"<frozen importlib._bootstrap>\", line 1027, in _find_and_load\n",
      "  File \"<frozen importlib._bootstrap>\", line 1006, in _find_and_load_unlocked\n",
      "  File \"<frozen importlib._bootstrap>\", line 688, in _load_unlocked\n",
      "  File \"<frozen importlib._bootstrap_external>\", line 883, in exec_module\n",
      "  File \"<frozen importlib._bootstrap>\", line 241, in _call_with_frames_removed\n",
      "  File \"/home/vdimitrov/venv/lib/python3.10/site-packages/kaggle/__init__.py\", line 23, in <module>\n",
      "    api.authenticate()\n",
      "  File \"/home/vdimitrov/venv/lib/python3.10/site-packages/kaggle/api/kaggle_api_extended.py\", line 403, in authenticate\n",
      "    raise IOError('Could not find {}. Make sure it\\'s located in'\n",
      "OSError: Could not find kaggle.json. Make sure it's located in /home/vdimitrov/.kaggle. Or use the environment method.\n",
      "unzip:  cannot find or open bumble-dating-app-google-play-store-review.zip, bumble-dating-app-google-play-store-review.zip.zip or bumble-dating-app-google-play-store-review.zip.ZIP.\n"
     ]
    },
    {
     "ename": "CalledProcessError",
     "evalue": "Command 'b'kaggle datasets download -d shivkumarganesh/bumble-dating-app-google-play-store-review\\nunzip bumble-dating-app-google-play-store-review.zip\\n'' returned non-zero exit status 9.",
     "output_type": "error",
     "traceback": [
      "\u001B[0;31m---------------------------------------------------------------------------\u001B[0m",
      "\u001B[0;31mCalledProcessError\u001B[0m                        Traceback (most recent call last)",
      "Cell \u001B[0;32mIn[63], line 1\u001B[0m\n\u001B[0;32m----> 1\u001B[0m \u001B[43mget_ipython\u001B[49m\u001B[43m(\u001B[49m\u001B[43m)\u001B[49m\u001B[38;5;241;43m.\u001B[39;49m\u001B[43mrun_cell_magic\u001B[49m\u001B[43m(\u001B[49m\u001B[38;5;124;43m'\u001B[39;49m\u001B[38;5;124;43mbash\u001B[39;49m\u001B[38;5;124;43m'\u001B[39;49m\u001B[43m,\u001B[49m\u001B[43m \u001B[49m\u001B[38;5;124;43m'\u001B[39;49m\u001B[38;5;124;43m'\u001B[39;49m\u001B[43m,\u001B[49m\u001B[43m \u001B[49m\u001B[38;5;124;43m'\u001B[39;49m\u001B[38;5;124;43mkaggle datasets download -d shivkumarganesh/bumble-dating-app-google-play-store-review\u001B[39;49m\u001B[38;5;130;43;01m\\n\u001B[39;49;00m\u001B[38;5;124;43munzip bumble-dating-app-google-play-store-review.zip\u001B[39;49m\u001B[38;5;130;43;01m\\n\u001B[39;49;00m\u001B[38;5;124;43m'\u001B[39;49m\u001B[43m)\u001B[49m\n",
      "File \u001B[0;32m~/venv/lib/python3.10/site-packages/IPython/core/interactiveshell.py:2515\u001B[0m, in \u001B[0;36mInteractiveShell.run_cell_magic\u001B[0;34m(self, magic_name, line, cell)\u001B[0m\n\u001B[1;32m   2513\u001B[0m \u001B[38;5;28;01mwith\u001B[39;00m \u001B[38;5;28mself\u001B[39m\u001B[38;5;241m.\u001B[39mbuiltin_trap:\n\u001B[1;32m   2514\u001B[0m     args \u001B[38;5;241m=\u001B[39m (magic_arg_s, cell)\n\u001B[0;32m-> 2515\u001B[0m     result \u001B[38;5;241m=\u001B[39m \u001B[43mfn\u001B[49m\u001B[43m(\u001B[49m\u001B[38;5;241;43m*\u001B[39;49m\u001B[43margs\u001B[49m\u001B[43m,\u001B[49m\u001B[43m \u001B[49m\u001B[38;5;241;43m*\u001B[39;49m\u001B[38;5;241;43m*\u001B[39;49m\u001B[43mkwargs\u001B[49m\u001B[43m)\u001B[49m\n\u001B[1;32m   2517\u001B[0m \u001B[38;5;66;03m# The code below prevents the output from being displayed\u001B[39;00m\n\u001B[1;32m   2518\u001B[0m \u001B[38;5;66;03m# when using magics with decorator @output_can_be_silenced\u001B[39;00m\n\u001B[1;32m   2519\u001B[0m \u001B[38;5;66;03m# when the last Python token in the expression is a ';'.\u001B[39;00m\n\u001B[1;32m   2520\u001B[0m \u001B[38;5;28;01mif\u001B[39;00m \u001B[38;5;28mgetattr\u001B[39m(fn, magic\u001B[38;5;241m.\u001B[39mMAGIC_OUTPUT_CAN_BE_SILENCED, \u001B[38;5;28;01mFalse\u001B[39;00m):\n",
      "File \u001B[0;32m~/venv/lib/python3.10/site-packages/IPython/core/magics/script.py:154\u001B[0m, in \u001B[0;36mScriptMagics._make_script_magic.<locals>.named_script_magic\u001B[0;34m(line, cell)\u001B[0m\n\u001B[1;32m    152\u001B[0m \u001B[38;5;28;01melse\u001B[39;00m:\n\u001B[1;32m    153\u001B[0m     line \u001B[38;5;241m=\u001B[39m script\n\u001B[0;32m--> 154\u001B[0m \u001B[38;5;28;01mreturn\u001B[39;00m \u001B[38;5;28;43mself\u001B[39;49m\u001B[38;5;241;43m.\u001B[39;49m\u001B[43mshebang\u001B[49m\u001B[43m(\u001B[49m\u001B[43mline\u001B[49m\u001B[43m,\u001B[49m\u001B[43m \u001B[49m\u001B[43mcell\u001B[49m\u001B[43m)\u001B[49m\n",
      "File \u001B[0;32m~/venv/lib/python3.10/site-packages/IPython/core/magics/script.py:314\u001B[0m, in \u001B[0;36mScriptMagics.shebang\u001B[0;34m(self, line, cell)\u001B[0m\n\u001B[1;32m    309\u001B[0m \u001B[38;5;28;01mif\u001B[39;00m args\u001B[38;5;241m.\u001B[39mraise_error \u001B[38;5;129;01mand\u001B[39;00m p\u001B[38;5;241m.\u001B[39mreturncode \u001B[38;5;241m!=\u001B[39m \u001B[38;5;241m0\u001B[39m:\n\u001B[1;32m    310\u001B[0m     \u001B[38;5;66;03m# If we get here and p.returncode is still None, we must have\u001B[39;00m\n\u001B[1;32m    311\u001B[0m     \u001B[38;5;66;03m# killed it but not yet seen its return code. We don't wait for it,\u001B[39;00m\n\u001B[1;32m    312\u001B[0m     \u001B[38;5;66;03m# in case it's stuck in uninterruptible sleep. -9 = SIGKILL\u001B[39;00m\n\u001B[1;32m    313\u001B[0m     rc \u001B[38;5;241m=\u001B[39m p\u001B[38;5;241m.\u001B[39mreturncode \u001B[38;5;129;01mor\u001B[39;00m \u001B[38;5;241m-\u001B[39m\u001B[38;5;241m9\u001B[39m\n\u001B[0;32m--> 314\u001B[0m     \u001B[38;5;28;01mraise\u001B[39;00m CalledProcessError(rc, cell)\n",
      "\u001B[0;31mCalledProcessError\u001B[0m: Command 'b'kaggle datasets download -d shivkumarganesh/bumble-dating-app-google-play-store-review\\nunzip bumble-dating-app-google-play-store-review.zip\\n'' returned non-zero exit status 9."
     ]
    }
   ],
   "source": [
    "%%bash\n",
    "kaggle datasets download -d shivkumarganesh/bumble-dating-app-google-play-store-review\n",
    "unzip bumble-dating-app-google-play-store-review.zip"
   ],
   "metadata": {
    "collapsed": false,
    "ExecuteTime": {
     "end_time": "2023-11-19T14:13:21.857691Z",
     "start_time": "2023-11-19T14:13:21.437090Z"
    }
   },
   "id": "b2dc1ae707252807"
  }
 ],
 "metadata": {
  "kernelspec": {
   "display_name": "Python 3",
   "language": "python",
   "name": "python3"
  },
  "language_info": {
   "codemirror_mode": {
    "name": "ipython",
    "version": 2
   },
   "file_extension": ".py",
   "mimetype": "text/x-python",
   "name": "python",
   "nbconvert_exporter": "python",
   "pygments_lexer": "ipython2",
   "version": "2.7.6"
  }
 },
 "nbformat": 4,
 "nbformat_minor": 5
}
